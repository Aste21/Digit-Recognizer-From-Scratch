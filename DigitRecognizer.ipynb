{
 "cells": [
  {
   "cell_type": "code",
   "execution_count": 1,
   "id": "3bf0f7ce",
   "metadata": {
    "vscode": {
     "languageId": "java"
    }
   },
   "outputs": [],
   "source": [
    "%maven ai.djl:basicdataset:0.23.0\n",
    "%maven ai.djl.mxnet:mxnet-engine:0.23.0\n",
    "%maven org.slf4j:slf4j-simple:1.7.36"
   ]
  },
  {
   "cell_type": "code",
   "execution_count": 2,
   "id": "1f83f7ba",
   "metadata": {
    "vscode": {
     "languageId": "java"
    }
   },
   "outputs": [],
   "source": [
    "import ai.djl.*;\n",
    "import ai.djl.engine.*;\n",
    "import ai.djl.inference.*;\n",
    "import ai.djl.modality.*;\n",
    "import ai.djl.modality.cv.*;\n",
    "import ai.djl.modality.cv.Image;\n",
    "import ai.djl.modality.cv.transform.*;\n",
    "import ai.djl.modality.cv.translator.*;\n",
    "import ai.djl.modality.cv.output.*;\n",
    "import ai.djl.modality.cv.util.*;\n",
    "import ai.djl.ndarray.*;\n",
    "import ai.djl.ndarray.index.*;\n",
    "import ai.djl.ndarray.index.NDIndex;\n",
    "import ai.djl.ndarray.types.*;\n",
    "import ai.djl.ndarray.types.Shape;\n",
    "import ai.djl.nn.*;\n",
    "import ai.djl.nn.convolutional.*;\n",
    "import ai.djl.nn.core.*;\n",
    "import ai.djl.nn.norm.*;\n",
    "import ai.djl.nn.pooling.*;\n",
    "import ai.djl.nn.recurrent.*;\n",
    "import ai.djl.repository.zoo.*;\n",
    "import ai.djl.training.*;\n",
    "import ai.djl.training.evaluator.*;\n",
    "import ai.djl.training.initializer.*;\n",
    "import ai.djl.training.listener.*;\n",
    "import ai.djl.training.loss.*;\n",
    "import ai.djl.training.optimizer.*;\n",
    "import ai.djl.training.tracker.*;\n",
    "import ai.djl.training.util.*;\n",
    "import ai.djl.training.dataset.*;\n",
    "import ai.djl.translate.*;\n",
    "import ai.djl.util.*;\n",
    "import java.io.*;\n",
    "import java.net.*;\n",
    "import java.nio.*;\n",
    "import java.nio.file.*;\n",
    "import java.util.*;\n",
    "import java.util.function.*;"
   ]
  },
  {
   "cell_type": "code",
   "execution_count": 3,
   "id": "482e990f",
   "metadata": {
    "vscode": {
     "languageId": "java"
    }
   },
   "outputs": [],
   "source": [
    "String datasetLimit = System.getenv(\"DATASET_LIMIT\");\n",
    "if (datasetLimit != null) {\n",
    "    System.setProperty(\"DATASET_LIMIT\", datasetLimit);\n",
    "}\n",
    "String maxEpoch = System.getenv(\"MAX_EPOCH\");\n",
    "if (maxEpoch != null) {\n",
    "    System.setProperty(\"MAX_EPOCH\", maxEpoch);\n",
    "}\n",
    "\n",
    "System.setProperty(\"org.slf4j.simpleLogger.showThreadName\", \"false\");\n",
    "System.setProperty(\"org.slf4j.simpleLogger.showLogName\", \"false\");\n",
    "System.setProperty(\"org.slf4j.simpleLogger.log.ai.djl.pytorch\", \"WARN\");\n",
    "System.setProperty(\"org.slf4j.simpleLogger.log.ai.djl.mxnet\", \"WARN\");\n",
    "System.setProperty(\"org.slf4j.simpleLogger.log.ai.djl.tensorflow\", \"WARN\");"
   ]
  },
  {
   "cell_type": "code",
   "execution_count": 4,
   "id": "73ae387c",
   "metadata": {
    "vscode": {
     "languageId": "java"
    }
   },
   "outputs": [],
   "source": [
    "%%loadFromPOM\n",
    "<dependency>\n",
    "    <groupId>tech.tablesaw</groupId>\n",
    "    <artifactId>tablesaw-jsplot</artifactId>\n",
    "    <version>0.38.1</version>\n",
    "</dependency>"
   ]
  },
  {
   "cell_type": "code",
   "execution_count": 6,
   "id": "f049a48d",
   "metadata": {
    "vscode": {
     "languageId": "java"
    }
   },
   "outputs": [],
   "source": [
    "import tech.tablesaw.api.*;\n",
    "import tech.tablesaw.columns.*;\n",
    "import tech.tablesaw.plotly.*;\n",
    "import tech.tablesaw.plotly.api.*;\n",
    "import tech.tablesaw.plotly.components.*;\n",
    "import tech.tablesaw.plotly.traces.*;"
   ]
  },
  {
   "cell_type": "code",
   "execution_count": 7,
   "id": "96fe8bb3",
   "metadata": {
    "vscode": {
     "languageId": "java"
    }
   },
   "outputs": [],
   "source": [
    "%%loadFromPOM\n",
    "<dependency>\n",
    "    <groupId>com.opencsv</groupId>\n",
    "    <artifactId>opencsv</artifactId>\n",
    "    <version>5.9</version>\n",
    "</dependency>\n"
   ]
  },
  {
   "cell_type": "code",
   "execution_count": 8,
   "id": "fabca756",
   "metadata": {
    "vscode": {
     "languageId": "java"
    }
   },
   "outputs": [],
   "source": [
    "import com.opencsv.CSVReader;\n",
    "import java.io.FileReader;\n",
    "import java.io.IOException;"
   ]
  },
  {
   "cell_type": "code",
   "execution_count": 9,
   "id": "55be8177",
   "metadata": {
    "vscode": {
     "languageId": "java"
    }
   },
   "outputs": [],
   "source": [
    "import java.util.ArrayList;\n",
    "import java.util.List;"
   ]
  },
  {
   "cell_type": "markdown",
   "id": "d1b8be75",
   "metadata": {},
   "source": [
    "# Reading from a file"
   ]
  },
  {
   "cell_type": "code",
   "execution_count": 10,
   "id": "8e3048be",
   "metadata": {
    "vscode": {
     "languageId": "java"
    }
   },
   "outputs": [],
   "source": [
    "public static int[][] convertListToArray(List<int[]> dataList) {\n",
    "        // function taking in List<int[]> and converting them into 2d int array (int[][])\n",
    "        int rows = dataList.size();\n",
    "        int cols = dataList.get(0).length; // Assuming all rows have the same length\n",
    "\n",
    "        int[][] dataArray = new int[rows][cols];\n",
    "\n",
    "        for (int i = 0; i < rows; i++) {\n",
    "            dataArray[i] = dataList.get(i);\n",
    "        }\n",
    "\n",
    "        return dataArray;\n",
    "    }"
   ]
  },
  {
   "cell_type": "code",
   "execution_count": 11,
   "id": "6cc549cc",
   "metadata": {
    "vscode": {
     "languageId": "java"
    }
   },
   "outputs": [],
   "source": [
    " public static int[] convertStringToIntArray(String inputString) {\n",
    "        // function converting string of integers seperated by \",\" and turning it into integer array\n",
    "        String[] stringArray = inputString.split(\",\");\n",
    "        int[] intArray = new int[stringArray.length];\n",
    "\n",
    "        for (int i = 0; i < stringArray.length; i++) {\n",
    "            intArray[i] = Integer.parseInt(stringArray[i]);\n",
    "        }\n",
    "\n",
    "        return intArray;\n",
    "    }"
   ]
  },
  {
   "cell_type": "code",
   "execution_count": 12,
   "id": "6f1409b7",
   "metadata": {
    "vscode": {
     "languageId": "java"
    }
   },
   "outputs": [],
   "source": [
    "BufferedReader reader;\n",
    "List<int[]> dataList = new ArrayList<>();\n",
    "try {\n",
    "\treader = new BufferedReader(new FileReader(\"C:\\\\Users\\\\Wiktor\\\\Desktop\\\\data\\\\train.txt\"));\n",
    "\tString line = reader.readLine();\n",
    "    int lineNumber = 0;\n",
    "    int[] lineArray;\n",
    "\twhile (line != null) {\n",
    "        if(lineNumber>0)\n",
    "        {\n",
    "            lineArray = convertStringToIntArray(line);\n",
    "            dataList.add(lineArray);\n",
    "        }\n",
    "        line = reader.readLine();\n",
    "\t\tlineNumber += 1;\n",
    "\t}\n",
    "\n",
    "\treader.close();\n",
    "} catch (IOException e) {\n",
    "\te.printStackTrace();\n",
    "}"
   ]
  },
  {
   "cell_type": "code",
   "execution_count": 13,
   "id": "f1c60845",
   "metadata": {
    "vscode": {
     "languageId": "java"
    }
   },
   "outputs": [
    {
     "data": {
      "text/plain": [
       "42000"
      ]
     },
     "execution_count": 13,
     "metadata": {},
     "output_type": "execute_result"
    }
   ],
   "source": [
    "dataList.size()"
   ]
  },
  {
   "cell_type": "code",
   "execution_count": 14,
   "id": "a3fe1688",
   "metadata": {
    "vscode": {
     "languageId": "java"
    }
   },
   "outputs": [],
   "source": [
    "int[][] data = convertListToArray(dataList);"
   ]
  },
  {
   "cell_type": "code",
   "execution_count": 15,
   "id": "08788e44",
   "metadata": {
    "scrolled": true,
    "vscode": {
     "languageId": "java"
    }
   },
   "outputs": [
    {
     "name": "stdout",
     "output_type": "stream",
     "text": [
      "Number of rows: 42000\n",
      "Number of columns: 785\n"
     ]
    }
   ],
   "source": [
    "int rows = data.length;\n",
    "int cols = data[0].length;\n",
    "\n",
    "System.out.println(\"Number of rows: \" + rows);\n",
    "System.out.println(\"Number of columns: \" + cols);"
   ]
  },
  {
   "cell_type": "markdown",
   "id": "985cffc8",
   "metadata": {},
   "source": [
    "# Converting int[][] into NDArray"
   ]
  },
  {
   "cell_type": "code",
   "execution_count": 16,
   "id": "75cefff5",
   "metadata": {
    "vscode": {
     "languageId": "java"
    }
   },
   "outputs": [
    {
     "name": "stderr",
     "output_type": "stream",
     "text": [
      "WARN No matching cuda flavor for win found: cu100mkl/sm_52.\n"
     ]
    }
   ],
   "source": [
    "NDManager nd = NDManager.newBaseManager();"
   ]
  },
  {
   "cell_type": "code",
   "execution_count": 17,
   "id": "fb9d8ba7",
   "metadata": {
    "vscode": {
     "languageId": "java"
    }
   },
   "outputs": [],
   "source": [
    "NDArray dataND = nd.create(data);"
   ]
  },
  {
   "cell_type": "code",
   "execution_count": 18,
   "id": "20bc33eb",
   "metadata": {
    "vscode": {
     "languageId": "java"
    }
   },
   "outputs": [
    {
     "data": {
      "text/plain": [
       "ND: (42000, 785) cpu() int32\r\n",
       "[ Exceed max print size ]"
      ]
     },
     "execution_count": 18,
     "metadata": {},
     "output_type": "execute_result"
    }
   ],
   "source": [
    "dataND"
   ]
  },
  {
   "cell_type": "code",
   "execution_count": 19,
   "id": "e03048bc",
   "metadata": {
    "vscode": {
     "languageId": "java"
    }
   },
   "outputs": [
    {
     "data": {
      "text/plain": [
       "ND: (785, 1000) cpu() int32\r\n",
       "[ Exceed max print size ]"
      ]
     },
     "execution_count": 19,
     "metadata": {},
     "output_type": "execute_result"
    }
   ],
   "source": [
    "NDArray dataDev = dataND.get(new NDIndex(\"0:1000\")).transpose();\n",
    "dataDev"
   ]
  },
  {
   "cell_type": "markdown",
   "id": "359dbaa7",
   "metadata": {},
   "source": [
    "# Spliting data into test and train samples"
   ]
  },
  {
   "cell_type": "code",
   "execution_count": 20,
   "id": "8c072ce0",
   "metadata": {
    "vscode": {
     "languageId": "java"
    }
   },
   "outputs": [
    {
     "data": {
      "text/plain": [
       "ND: (1000) cpu() int32\r\n",
       "[ Exceed max print size ]"
      ]
     },
     "execution_count": 20,
     "metadata": {},
     "output_type": "execute_result"
    }
   ],
   "source": [
    "NDArray YDev = dataDev.get(0);\n",
    "YDev"
   ]
  },
  {
   "cell_type": "code",
   "execution_count": 21,
   "id": "7fef8c20",
   "metadata": {
    "vscode": {
     "languageId": "java"
    }
   },
   "outputs": [
    {
     "data": {
      "text/plain": [
       "ND: (784, 1000) cpu() int32\r\n",
       "[ Exceed max print size ]"
      ]
     },
     "execution_count": 21,
     "metadata": {},
     "output_type": "execute_result"
    }
   ],
   "source": [
    "NDArray XDev = dataDev.get(new NDIndex(\"1:785\"));\n",
    "XDev"
   ]
  },
  {
   "cell_type": "code",
   "execution_count": 22,
   "id": "22452a9b",
   "metadata": {
    "vscode": {
     "languageId": "java"
    }
   },
   "outputs": [
    {
     "data": {
      "text/plain": [
       "ND: (784, 1000) cpu() float32\r\n",
       "[ Exceed max print size ]"
      ]
     },
     "execution_count": 22,
     "metadata": {},
     "output_type": "execute_result"
    }
   ],
   "source": [
    "XDev = XDev.div(255);\n",
    "XDev"
   ]
  },
  {
   "cell_type": "code",
   "execution_count": 23,
   "id": "fbcdecde",
   "metadata": {
    "vscode": {
     "languageId": "java"
    }
   },
   "outputs": [
    {
     "data": {
      "text/plain": [
       "ND: (785, 41000) cpu() int32\r\n",
       "[ Exceed max print size ]"
      ]
     },
     "execution_count": 23,
     "metadata": {},
     "output_type": "execute_result"
    }
   ],
   "source": [
    "NDArray dataTest = dataND.get(new NDIndex(\"1000:42000\")).transpose();\n",
    "dataTest"
   ]
  },
  {
   "cell_type": "code",
   "execution_count": 24,
   "id": "57466026",
   "metadata": {
    "vscode": {
     "languageId": "java"
    }
   },
   "outputs": [
    {
     "data": {
      "text/plain": [
       "ND: (41000) cpu() int32\r\n",
       "[ Exceed max print size ]"
      ]
     },
     "execution_count": 24,
     "metadata": {},
     "output_type": "execute_result"
    }
   ],
   "source": [
    "NDArray YTest = dataTest.get(0);\n",
    "YTest"
   ]
  },
  {
   "cell_type": "code",
   "execution_count": 25,
   "id": "70378767",
   "metadata": {
    "vscode": {
     "languageId": "java"
    }
   },
   "outputs": [
    {
     "data": {
      "text/plain": [
       "ND: (784, 41000) cpu() int32\r\n",
       "[ Exceed max print size ]"
      ]
     },
     "execution_count": 25,
     "metadata": {},
     "output_type": "execute_result"
    }
   ],
   "source": [
    "NDArray XTest = dataTest.get(new NDIndex(\"1:785\"));\n",
    "XTest"
   ]
  },
  {
   "cell_type": "code",
   "execution_count": 26,
   "id": "35f81901",
   "metadata": {
    "vscode": {
     "languageId": "java"
    }
   },
   "outputs": [
    {
     "data": {
      "text/plain": [
       "ND: (784, 41000) cpu() float32\r\n",
       "[ Exceed max print size ]"
      ]
     },
     "execution_count": 26,
     "metadata": {},
     "output_type": "execute_result"
    }
   ],
   "source": [
    "XTest = XTest.div(255);\n",
    "XTest"
   ]
  },
  {
   "cell_type": "code",
   "execution_count": 27,
   "id": "5cc499b4",
   "metadata": {
    "scrolled": false,
    "vscode": {
     "languageId": "java"
    }
   },
   "outputs": [
    {
     "data": {
      "text/plain": [
       "ND: (41000) cpu() int32\r\n",
       "[ Exceed max print size ]"
      ]
     },
     "execution_count": 27,
     "metadata": {},
     "output_type": "execute_result"
    }
   ],
   "source": [
    "dataTest.get(0);"
   ]
  },
  {
   "cell_type": "code",
   "execution_count": 29,
   "id": "f189190a",
   "metadata": {
    "scrolled": true,
    "vscode": {
     "languageId": "java"
    }
   },
   "outputs": [
    {
     "data": {
      "text/plain": [
       "41000"
      ]
     },
     "execution_count": 29,
     "metadata": {},
     "output_type": "execute_result"
    }
   ],
   "source": [
    "int rowTrain = (int) XTest.get(0).size();\n",
    "rowTrain"
   ]
  },
  {
   "cell_type": "markdown",
   "id": "8fb18e77",
   "metadata": {},
   "source": [
    "# Patameters Initialization"
   ]
  },
  {
   "cell_type": "code",
   "execution_count": 30,
   "id": "08588b64",
   "metadata": {
    "vscode": {
     "languageId": "java"
    }
   },
   "outputs": [],
   "source": [
    "public static NDArray initializeW1()\n",
    "{\n",
    "    // we initialize W1 into a random integer from -0.5 to 0,5, its 10x784 because we have 10 digits and the digits are 28 x 28 pixels (28*28 = 784)\n",
    "    NDArray W1 = nd.randomInteger(-500, 500, new Shape(10, 784), DataType.INT32);\n",
    "    W1 = W1.div(1000);\n",
    "    return W1;\n",
    "}"
   ]
  },
  {
   "cell_type": "code",
   "execution_count": 31,
   "id": "4f4d2ecc",
   "metadata": {
    "vscode": {
     "languageId": "java"
    }
   },
   "outputs": [],
   "source": [
    "public static NDArray initializeb1()\n",
    "{\n",
    "    // we initialize b1 into a random integer from -0.5 to 0,5,  itd 10x1 because the second layer has 10 nodes\n",
    "    NDArray b1 = nd.randomInteger(-500, 500, new Shape(10, 1), DataType.INT32);\n",
    "    b1 = b1.div(1000);\n",
    "    return b1;\n",
    "}"
   ]
  },
  {
   "cell_type": "code",
   "execution_count": 32,
   "id": "f655dc35",
   "metadata": {
    "vscode": {
     "languageId": "java"
    }
   },
   "outputs": [],
   "source": [
    "public static NDArray initializeW2()\n",
    "{\n",
    "    // we initialize W1 into a random integer from -0.5 to 0,5, its 10x10 because we have 10 digits and 10 nodes\n",
    "    NDArray W2 = nd.randomInteger(-500, 500, new Shape(10, 10), DataType.INT32);\n",
    "    W2 = W2.div(1000);\n",
    "    return W2;\n",
    "}"
   ]
  },
  {
   "cell_type": "code",
   "execution_count": 33,
   "id": "77071fd1",
   "metadata": {
    "vscode": {
     "languageId": "java"
    }
   },
   "outputs": [],
   "source": [
    "public static NDArray initializeb2()\n",
    "{\n",
    "    // we initialize b1 into a random integer from -0.5 to 0,5,  itd 10x1 because the second layer has 10 nodes\n",
    "    NDArray b2 = nd.randomInteger(-500, 500, new Shape(10, 1), DataType.INT32);\n",
    "    b2 = b2.div(1000);\n",
    "    return b2;\n",
    "}"
   ]
  },
  {
   "cell_type": "markdown",
   "id": "ca7eb910",
   "metadata": {},
   "source": [
    "# Functions declaration"
   ]
  },
  {
   "cell_type": "code",
   "execution_count": 34,
   "id": "69dfe968",
   "metadata": {
    "vscode": {
     "languageId": "java"
    }
   },
   "outputs": [],
   "source": [
    "public static NDArray ReLU(NDArray Z)\n",
    "{\n",
    "    // function returning ReLU activation function result (returns 0 if the data is smaller then 0, or the data if the data is >= 0)\n",
    "    return Z.maximum(0);\n",
    "}"
   ]
  },
  {
   "cell_type": "code",
   "execution_count": 35,
   "id": "4bd62e09",
   "metadata": {
    "vscode": {
     "languageId": "java"
    }
   },
   "outputs": [],
   "source": [
    "public static NDArray softmax(NDArray Z)\n",
    "{\n",
    "    // function returning softmax activation function result (it calculates the probability of each function)\n",
    "    return Z.exp().div(Z.exp().sum());\n",
    "}"
   ]
  },
  {
   "cell_type": "code",
   "execution_count": 36,
   "id": "fe2d80a1",
   "metadata": {
    "vscode": {
     "languageId": "java"
    }
   },
   "outputs": [
    {
     "name": "stdout",
     "output_type": "stream",
     "text": [
      "[0.0, 0.01, 0.02, 0.03, 0.04, 0.05, 0.06, 0.07, 0.08, 0.09, 0.1, 0.11]\n",
      "[0.07882678, 0.079619, 0.08041918, 0.081227414, 0.08204376, 0.082868315, 0.083701156, 0.08454237, 0.085392036, 0.08625024, 0.08711707, 0.08799261]\n",
      "[0.07882678, 0.15844578, 0.23886496, 0.32009238, 0.40213615, 0.48500445, 0.5687056, 0.653248, 0.73864007, 0.8248903, 0.9120074, 1.0]\n"
     ]
    }
   ],
   "source": [
    "NDArray B = nd.arange(12);\n",
    "\n",
    "B = B.div(100);\n",
    "\n",
    "System.out.println(Arrays.toString(B.toFloatArray()));\n",
    "\n",
    "B = B.softmax(0);\n",
    "\n",
    "System.out.println(Arrays.toString(B.toFloatArray()));\n",
    "\n",
    "B = B.cumSum();\n",
    "\n",
    "System.out.println(Arrays.toString(B.toFloatArray()));"
   ]
  },
  {
   "cell_type": "code",
   "execution_count": 37,
   "id": "2c26e996",
   "metadata": {
    "vscode": {
     "languageId": "java"
    }
   },
   "outputs": [],
   "source": [
    "public static NDArray forwardPropagateZ1(NDArray W1, NDArray X, NDArray b1)\n",
    "{\n",
    "    // Z = W * X + b, weight times value plus bias\n",
    "    return W1.dot(X).add(b1);\n",
    "}"
   ]
  },
  {
   "cell_type": "code",
   "execution_count": 38,
   "id": "9cf39c33",
   "metadata": {
    "vscode": {
     "languageId": "java"
    }
   },
   "outputs": [],
   "source": [
    "public static NDArray forwardPropagateA1(NDArray Z1)\n",
    "{\n",
    "    // we use the ReLU activation function\n",
    "    return ReLU(Z1);\n",
    "}"
   ]
  },
  {
   "cell_type": "code",
   "execution_count": 39,
   "id": "74431c16",
   "metadata": {
    "vscode": {
     "languageId": "java"
    }
   },
   "outputs": [],
   "source": [
    "public static NDArray forwardPropagateZ2(NDArray W2, NDArray A1, NDArray b2)\n",
    "{\n",
    "    // Z = W * X + b, weight times value plus bias\n",
    "    return W2.dot(A1).add(b2);\n",
    "}"
   ]
  },
  {
   "cell_type": "code",
   "execution_count": 40,
   "id": "f94f02d6",
   "metadata": {
    "vscode": {
     "languageId": "java"
    }
   },
   "outputs": [],
   "source": [
    "public static NDArray forwardPropagateA2(NDArray Z2)\n",
    "{\n",
    "    // we use the softmax activation function\n",
    "    return Z2.softmax(0);\n",
    "}"
   ]
  },
  {
   "cell_type": "code",
   "execution_count": 41,
   "id": "b282b87a",
   "metadata": {
    "vscode": {
     "languageId": "java"
    }
   },
   "outputs": [],
   "source": [
    "public static NDArray ReLUDerivative(NDArray Z)\n",
    "{\n",
    "    return Z.gt(0);\n",
    "}"
   ]
  },
  {
   "cell_type": "markdown",
   "id": "a371a902",
   "metadata": {},
   "source": [
    "# Backward Propagation "
   ]
  },
  {
   "cell_type": "code",
   "execution_count": 42,
   "id": "90d84c09",
   "metadata": {
    "vscode": {
     "languageId": "java"
    }
   },
   "outputs": [],
   "source": [
    "public static NDArray backwardPropagateOneHotY(NDArray Y)\n",
    "{\n",
    "    // we generate one hot of Y to generate the target results\n",
    "    return oneHot(Y);\n",
    "}"
   ]
  },
  {
   "cell_type": "code",
   "execution_count": 43,
   "id": "be8e3537",
   "metadata": {
    "vscode": {
     "languageId": "java"
    }
   },
   "outputs": [],
   "source": [
    "public static NDArray backwardPropagateDZ2(NDArray A2, NDArray oneHotY)\n",
    "{\n",
    "    return A2.sub(oneHotY);\n",
    "}"
   ]
  },
  {
   "cell_type": "code",
   "execution_count": 44,
   "id": "8499d7c6",
   "metadata": {
    "vscode": {
     "languageId": "java"
    }
   },
   "outputs": [],
   "source": [
    "public static NDArray backwardPropagateDW2(double rows, NDArray DZ2, NDArray A1)\n",
    "{\n",
    "    double division = 1/rows;\n",
    "    return DZ2.dot(A1.transpose()).mul(division);\n",
    "}"
   ]
  },
  {
   "cell_type": "code",
   "execution_count": 45,
   "id": "4539ca9e",
   "metadata": {
    "vscode": {
     "languageId": "java"
    }
   },
   "outputs": [],
   "source": [
    "public static NDArray backwardPropagateDb2(double rows, NDArray DZ2)\n",
    "{\n",
    "    return DZ2.sum().mul(1/rows);\n",
    "}"
   ]
  },
  {
   "cell_type": "code",
   "execution_count": 46,
   "id": "ea0907d4",
   "metadata": {
    "vscode": {
     "languageId": "java"
    }
   },
   "outputs": [],
   "source": [
    "public static NDArray backwardPropagateDZ1(NDArray W2, NDArray DZ2, NDArray Z1)\n",
    "{\n",
    "    return W2.transpose().dot(DZ2).mul(ReLUDerivative(Z1));\n",
    "}"
   ]
  },
  {
   "cell_type": "code",
   "execution_count": 47,
   "id": "623ef1cc",
   "metadata": {
    "vscode": {
     "languageId": "java"
    }
   },
   "outputs": [],
   "source": [
    "public static NDArray backwardPropagateDW1(double rows, NDArray DZ1, NDArray X)\n",
    "{\n",
    "    return DZ1.dot(X.transpose()).mul(1/rows);\n",
    "}"
   ]
  },
  {
   "cell_type": "code",
   "execution_count": 48,
   "id": "0796d823",
   "metadata": {
    "vscode": {
     "languageId": "java"
    }
   },
   "outputs": [],
   "source": [
    "public static NDArray backwardPropagateDb1(double rows, NDArray DZ1)\n",
    "{\n",
    "    return DZ1.sum().mul(1/rows);\n",
    "}"
   ]
  },
  {
   "cell_type": "code",
   "execution_count": 49,
   "id": "2a913707",
   "metadata": {
    "vscode": {
     "languageId": "java"
    }
   },
   "outputs": [],
   "source": [
    "public static NDArray updateParameter(NDArray param, double alpha, NDArray dParam, boolean isPrint)\n",
    "{\n",
    "    if(isPrint)\n",
    "    {\n",
    "            System.out.println(param.sub(dParam.mul(alpha)).get(new NDIndex(\"0:2, 0:2\")));\n",
    "    }\n",
    "    return param.sub(dParam.mul(alpha));\n",
    "}"
   ]
  },
  {
   "cell_type": "code",
   "execution_count": 50,
   "id": "03cbd3ad",
   "metadata": {
    "vscode": {
     "languageId": "java"
    }
   },
   "outputs": [],
   "source": [
    "public static NDArray getPredictions(NDArray A2)\n",
    "{\n",
    "    // returns the number with the biggest probabilities\n",
    "    return A2.argMax(0).toType(DataType.INT32, false);\n",
    "}"
   ]
  },
  {
   "cell_type": "code",
   "execution_count": 51,
   "id": "aaab8c5d",
   "metadata": {
    "vscode": {
     "languageId": "java"
    }
   },
   "outputs": [],
   "source": [
    "public static double getNumberOfCorrectPredictions(NDArray predictions, NDArray Y)\n",
    "{\n",
    "    // checks the predictions with the correct results and returns number of correct\n",
    "    NDArray equalityMask = predictions.toType(DataType.INT32, false).eq(Y);\n",
    "    return equalityMask.countNonzero().toType(DataType.FLOAT64, false).getDouble();\n",
    "}"
   ]
  },
  {
   "cell_type": "code",
   "execution_count": 52,
   "id": "4e9c0db7",
   "metadata": {
    "vscode": {
     "languageId": "java"
    }
   },
   "outputs": [],
   "source": [
    "public static double getAccuracy(NDArray predictions, NDArray Y)\n",
    "{\n",
    "    // returns accuracy = number of correct predictions / all predictions\n",
    "    System.out.println(\"Prediction: \" + predictions.get(new NDIndex(\"0:10\")) +\", Desired output: \" + Y.get(new NDIndex(\"0:10\")));\n",
    "    return getNumberOfCorrectPredictions(predictions, Y) / Y.size();\n",
    "}"
   ]
  },
  {
   "cell_type": "code",
   "execution_count": 53,
   "id": "c800f2e7",
   "metadata": {
    "vscode": {
     "languageId": "java"
    }
   },
   "outputs": [],
   "source": [
    "public static List<NDArray> mineGradientDescent(NDArray X, NDArray Y, double rows, double alpha, int iterations)\n",
    "{\n",
    "    double m = Y.size();\n",
    "    NDArray Z1, A1, Z2, A2, dW1, dZ1, db1, dW2, dZ2, db2, oneHotY, predictions;\n",
    "    double accuracy;\n",
    "    NDArray W1 = initializeW1();\n",
    "    NDArray b1 = initializeb1();\n",
    "    NDArray W2 = initializeW2();\n",
    "    NDArray b2 = initializeb2();\n",
    "    for(int i = 0;i < iterations;i++)\n",
    "    {\n",
    "        Z1 = forwardPropagateZ1(W1, X, b1);\n",
    "        A1 = forwardPropagateA1(Z1);\n",
    "        Z2 = forwardPropagateZ2(W2, A1, b2);\n",
    "        A2 = forwardPropagateA2(Z2);\n",
    "        oneHotY = Y.oneHot(10).transpose();\n",
    "        dZ2 = backwardPropagateDZ2(A2, oneHotY);\n",
    "        dW2 = backwardPropagateDW2(m, dZ2, A1);\n",
    "        db2 = backwardPropagateDb2(m, dZ2);\n",
    "        dZ1 = backwardPropagateDZ1(W2, dZ2, Z1);\n",
    "        dW1 = backwardPropagateDW1(m, dZ1, X);\n",
    "        db1 = backwardPropagateDb1(m, dZ1);\n",
    "        W1 = updateParameter(W1, alpha, dW1, false);\n",
    "        b1 = updateParameter(b1, alpha, db1, false);\n",
    "        W2 = updateParameter(W2, alpha, dW2, false);\n",
    "        b2 = updateParameter(b2, alpha, db2, false);\n",
    "        if((i+1)%10 == 0)\n",
    "        {\n",
    "            System.out.println(\"Iteration: \" + (i+1));\n",
    "            predictions = getPredictions(A2);\n",
    "            accuracy = getAccuracy(predictions, Y);\n",
    "            System.out.println(\"Accuracy: \" + accuracy);\n",
    "            System.out.println(\"-------------------\");\n",
    "        }\n",
    "    }\n",
    "    List<NDArray> result = new ArrayList<NDArray>();  \n",
    "    result.add(W1);\n",
    "    result.add(b1);\n",
    "    result.add(W2);\n",
    "    result.add(b2);\n",
    "    return result;\n",
    "}"
   ]
  },
  {
   "cell_type": "code",
   "execution_count": 54,
   "id": "81db6e36",
   "metadata": {
    "vscode": {
     "languageId": "java"
    }
   },
   "outputs": [
    {
     "name": "stdout",
     "output_type": "stream",
     "text": [
      "Iteration: 10\n",
      "Prediction: ND: (10) cpu() int32\n",
      "[ 1,  0,  1,  1,  8,  6,  7,  2,  8,  2]\n",
      ", Desired output: ND: (10) cpu() int32\n",
      "[ 1,  5,  1,  7,  4,  8,  9,  5,  7,  4]\n",
      "\n",
      "Accuracy: 0.17358536585365852\n",
      "-------------------\n",
      "Iteration: 20\n",
      "Prediction: ND: (10) cpu() int32\n",
      "[ 1,  0,  1,  1,  8,  8,  7,  2,  8,  2]\n",
      ", Desired output: ND: (10) cpu() int32\n",
      "[ 1,  5,  1,  7,  4,  8,  9,  5,  7,  4]\n",
      "\n",
      "Accuracy: 0.2471219512195122\n",
      "-------------------\n",
      "Iteration: 30\n",
      "Prediction: ND: (10) cpu() int32\n",
      "[ 1,  0,  1,  1,  8,  8,  7,  2,  8,  2]\n",
      ", Desired output: ND: (10) cpu() int32\n",
      "[ 1,  5,  1,  7,  4,  8,  9,  5,  7,  4]\n",
      "\n",
      "Accuracy: 0.29729268292682925\n",
      "-------------------\n",
      "Iteration: 40\n",
      "Prediction: ND: (10) cpu() int32\n",
      "[ 1,  0,  1,  1,  8,  8,  7,  2,  7,  2]\n",
      ", Desired output: ND: (10) cpu() int32\n",
      "[ 1,  5,  1,  7,  4,  8,  9,  5,  7,  4]\n",
      "\n",
      "Accuracy: 0.3384390243902439\n",
      "-------------------\n",
      "Iteration: 50\n",
      "Prediction: ND: (10) cpu() int32\n",
      "[ 1,  6,  1,  1,  8,  8,  7,  2,  7,  2]\n",
      ", Desired output: ND: (10) cpu() int32\n",
      "[ 1,  5,  1,  7,  4,  8,  9,  5,  7,  4]\n",
      "\n",
      "Accuracy: 0.3769268292682927\n",
      "-------------------\n",
      "Iteration: 60\n",
      "Prediction: ND: (10) cpu() int32\n",
      "[ 1,  6,  1,  7,  8,  8,  7,  2,  7,  2]\n",
      ", Desired output: ND: (10) cpu() int32\n",
      "[ 1,  5,  1,  7,  4,  8,  9,  5,  7,  4]\n",
      "\n",
      "Accuracy: 0.4133414634146341\n",
      "-------------------\n",
      "Iteration: 70\n",
      "Prediction: ND: (10) cpu() int32\n",
      "[ 1,  6,  1,  7,  8,  8,  7,  2,  7,  2]\n",
      ", Desired output: ND: (10) cpu() int32\n",
      "[ 1,  5,  1,  7,  4,  8,  9,  5,  7,  4]\n",
      "\n",
      "Accuracy: 0.4494146341463415\n",
      "-------------------\n",
      "Iteration: 80\n",
      "Prediction: ND: (10) cpu() int32\n",
      "[ 1,  6,  1,  7,  8,  8,  9,  2,  7,  2]\n",
      ", Desired output: ND: (10) cpu() int32\n",
      "[ 1,  5,  1,  7,  4,  8,  9,  5,  7,  4]\n",
      "\n",
      "Accuracy: 0.4848292682926829\n",
      "-------------------\n",
      "Iteration: 90\n",
      "Prediction: ND: (10) cpu() int32\n",
      "[ 1,  6,  1,  7,  2,  8,  9,  2,  7,  2]\n",
      ", Desired output: ND: (10) cpu() int32\n",
      "[ 1,  5,  1,  7,  4,  8,  9,  5,  7,  4]\n",
      "\n",
      "Accuracy: 0.516390243902439\n",
      "-------------------\n",
      "Iteration: 100\n",
      "Prediction: ND: (10) cpu() int32\n",
      "[ 1,  6,  1,  7,  2,  8,  9,  2,  7,  2]\n",
      ", Desired output: ND: (10) cpu() int32\n",
      "[ 1,  5,  1,  7,  4,  8,  9,  5,  7,  4]\n",
      "\n",
      "Accuracy: 0.5438780487804878\n",
      "-------------------\n",
      "Iteration: 110\n",
      "Prediction: ND: (10) cpu() int32\n",
      "[ 1,  6,  1,  7,  2,  8,  9,  2,  7,  2]\n",
      ", Desired output: ND: (10) cpu() int32\n",
      "[ 1,  5,  1,  7,  4,  8,  9,  5,  7,  4]\n",
      "\n",
      "Accuracy: 0.5665853658536585\n",
      "-------------------\n",
      "Iteration: 120\n",
      "Prediction: ND: (10) cpu() int32\n",
      "[ 1,  6,  1,  7,  2,  8,  9,  2,  7,  2]\n",
      ", Desired output: ND: (10) cpu() int32\n",
      "[ 1,  5,  1,  7,  4,  8,  9,  5,  7,  4]\n",
      "\n",
      "Accuracy: 0.5884878048780487\n",
      "-------------------\n",
      "Iteration: 130\n",
      "Prediction: ND: (10) cpu() int32\n",
      "[ 1,  6,  1,  7,  2,  8,  9,  2,  7,  2]\n",
      ", Desired output: ND: (10) cpu() int32\n",
      "[ 1,  5,  1,  7,  4,  8,  9,  5,  7,  4]\n",
      "\n",
      "Accuracy: 0.6092439024390244\n",
      "-------------------\n",
      "Iteration: 140\n",
      "Prediction: ND: (10) cpu() int32\n",
      "[ 1,  6,  1,  7,  4,  8,  9,  2,  7,  2]\n",
      ", Desired output: ND: (10) cpu() int32\n",
      "[ 1,  5,  1,  7,  4,  8,  9,  5,  7,  4]\n",
      "\n",
      "Accuracy: 0.6302926829268293\n",
      "-------------------\n",
      "Iteration: 150\n",
      "Prediction: ND: (10) cpu() int32\n",
      "[ 1,  6,  1,  7,  4,  8,  9,  2,  7,  2]\n",
      ", Desired output: ND: (10) cpu() int32\n",
      "[ 1,  5,  1,  7,  4,  8,  9,  5,  7,  4]\n",
      "\n",
      "Accuracy: 0.651\n",
      "-------------------\n",
      "Iteration: 160\n",
      "Prediction: ND: (10) cpu() int32\n",
      "[ 1,  6,  1,  7,  4,  8,  9,  2,  7,  2]\n",
      ", Desired output: ND: (10) cpu() int32\n",
      "[ 1,  5,  1,  7,  4,  8,  9,  5,  7,  4]\n",
      "\n",
      "Accuracy: 0.6684878048780488\n",
      "-------------------\n",
      "Iteration: 170\n",
      "Prediction: ND: (10) cpu() int32\n",
      "[ 1,  6,  1,  7,  4,  8,  9,  2,  7,  2]\n",
      ", Desired output: ND: (10) cpu() int32\n",
      "[ 1,  5,  1,  7,  4,  8,  9,  5,  7,  4]\n",
      "\n",
      "Accuracy: 0.685439024390244\n",
      "-------------------\n",
      "Iteration: 180\n",
      "Prediction: ND: (10) cpu() int32\n",
      "[ 1,  6,  1,  7,  4,  8,  9,  2,  7,  2]\n",
      ", Desired output: ND: (10) cpu() int32\n",
      "[ 1,  5,  1,  7,  4,  8,  9,  5,  7,  4]\n",
      "\n",
      "Accuracy: 0.7012195121951219\n",
      "-------------------\n",
      "Iteration: 190\n",
      "Prediction: ND: (10) cpu() int32\n",
      "[ 1,  6,  1,  7,  4,  8,  9,  2,  7,  2]\n",
      ", Desired output: ND: (10) cpu() int32\n",
      "[ 1,  5,  1,  7,  4,  8,  9,  5,  7,  4]\n",
      "\n",
      "Accuracy: 0.7150487804878048\n",
      "-------------------\n",
      "Iteration: 200\n",
      "Prediction: ND: (10) cpu() int32\n",
      "[ 1,  6,  1,  7,  4,  8,  9,  2,  7,  2]\n",
      ", Desired output: ND: (10) cpu() int32\n",
      "[ 1,  5,  1,  7,  4,  8,  9,  5,  7,  4]\n",
      "\n",
      "Accuracy: 0.727390243902439\n",
      "-------------------\n",
      "Iteration: 210\n",
      "Prediction: ND: (10) cpu() int32\n",
      "[ 1,  6,  1,  7,  4,  8,  9,  2,  7,  2]\n",
      ", Desired output: ND: (10) cpu() int32\n",
      "[ 1,  5,  1,  7,  4,  8,  9,  5,  7,  4]\n",
      "\n",
      "Accuracy: 0.7388780487804878\n",
      "-------------------\n",
      "Iteration: 220\n",
      "Prediction: ND: (10) cpu() int32\n",
      "[ 1,  6,  1,  7,  4,  8,  9,  2,  7,  4]\n",
      ", Desired output: ND: (10) cpu() int32\n",
      "[ 1,  5,  1,  7,  4,  8,  9,  5,  7,  4]\n",
      "\n",
      "Accuracy: 0.7489512195121951\n",
      "-------------------\n",
      "Iteration: 230\n",
      "Prediction: ND: (10) cpu() int32\n",
      "[ 1,  6,  1,  7,  4,  8,  9,  2,  7,  4]\n",
      ", Desired output: ND: (10) cpu() int32\n",
      "[ 1,  5,  1,  7,  4,  8,  9,  5,  7,  4]\n",
      "\n",
      "Accuracy: 0.7569512195121951\n",
      "-------------------\n",
      "Iteration: 240\n",
      "Prediction: ND: (10) cpu() int32\n",
      "[ 1,  6,  1,  7,  4,  8,  9,  2,  7,  4]\n",
      ", Desired output: ND: (10) cpu() int32\n",
      "[ 1,  5,  1,  7,  4,  8,  9,  5,  7,  4]\n",
      "\n",
      "Accuracy: 0.7642439024390244\n",
      "-------------------\n",
      "Iteration: 250\n",
      "Prediction: ND: (10) cpu() int32\n",
      "[ 1,  6,  1,  7,  4,  8,  9,  2,  7,  4]\n",
      ", Desired output: ND: (10) cpu() int32\n",
      "[ 1,  5,  1,  7,  4,  8,  9,  5,  7,  4]\n",
      "\n",
      "Accuracy: 0.7711951219512195\n",
      "-------------------\n",
      "Iteration: 260\n",
      "Prediction: ND: (10) cpu() int32\n",
      "[ 1,  6,  1,  7,  4,  8,  9,  2,  7,  4]\n",
      ", Desired output: ND: (10) cpu() int32\n",
      "[ 1,  5,  1,  7,  4,  8,  9,  5,  7,  4]\n",
      "\n",
      "Accuracy: 0.7776585365853659\n",
      "-------------------\n",
      "Iteration: 270\n",
      "Prediction: ND: (10) cpu() int32\n",
      "[ 1,  6,  1,  7,  4,  8,  9,  5,  7,  4]\n",
      ", Desired output: ND: (10) cpu() int32\n",
      "[ 1,  5,  1,  7,  4,  8,  9,  5,  7,  4]\n",
      "\n",
      "Accuracy: 0.7838536585365854\n",
      "-------------------\n",
      "Iteration: 280\n",
      "Prediction: ND: (10) cpu() int32\n",
      "[ 1,  6,  1,  7,  4,  8,  9,  5,  7,  4]\n",
      ", Desired output: ND: (10) cpu() int32\n",
      "[ 1,  5,  1,  7,  4,  8,  9,  5,  7,  4]\n",
      "\n",
      "Accuracy: 0.7886585365853659\n",
      "-------------------\n",
      "Iteration: 290\n",
      "Prediction: ND: (10) cpu() int32\n",
      "[ 1,  6,  1,  7,  4,  8,  9,  5,  7,  4]\n",
      ", Desired output: ND: (10) cpu() int32\n",
      "[ 1,  5,  1,  7,  4,  8,  9,  5,  7,  4]\n",
      "\n",
      "Accuracy: 0.7933902439024391\n",
      "-------------------\n",
      "Iteration: 300\n",
      "Prediction: ND: (10) cpu() int32\n",
      "[ 1,  6,  1,  7,  4,  8,  9,  5,  7,  4]\n",
      ", Desired output: ND: (10) cpu() int32\n",
      "[ 1,  5,  1,  7,  4,  8,  9,  5,  7,  4]\n",
      "\n",
      "Accuracy: 0.7983658536585366\n",
      "-------------------\n",
      "Iteration: 310\n",
      "Prediction: ND: (10) cpu() int32\n",
      "[ 1,  6,  1,  7,  4,  8,  9,  5,  7,  4]\n",
      ", Desired output: ND: (10) cpu() int32\n",
      "[ 1,  5,  1,  7,  4,  8,  9,  5,  7,  4]\n",
      "\n",
      "Accuracy: 0.8024878048780488\n",
      "-------------------\n",
      "Iteration: 320\n",
      "Prediction: ND: (10) cpu() int32\n",
      "[ 1,  6,  1,  7,  4,  8,  9,  5,  7,  4]\n",
      ", Desired output: ND: (10) cpu() int32\n",
      "[ 1,  5,  1,  7,  4,  8,  9,  5,  7,  4]\n",
      "\n",
      "Accuracy: 0.8055609756097561\n",
      "-------------------\n",
      "Iteration: 330\n",
      "Prediction: ND: (10) cpu() int32\n",
      "[ 1,  6,  1,  7,  4,  8,  9,  5,  7,  4]\n",
      ", Desired output: ND: (10) cpu() int32\n",
      "[ 1,  5,  1,  7,  4,  8,  9,  5,  7,  4]\n",
      "\n",
      "Accuracy: 0.8089512195121952\n",
      "-------------------\n",
      "Iteration: 340\n",
      "Prediction: ND: (10) cpu() int32\n",
      "[ 1,  6,  1,  7,  4,  8,  9,  5,  7,  4]\n",
      ", Desired output: ND: (10) cpu() int32\n",
      "[ 1,  5,  1,  7,  4,  8,  9,  5,  7,  4]\n",
      "\n",
      "Accuracy: 0.811439024390244\n",
      "-------------------\n",
      "Iteration: 350\n",
      "Prediction: ND: (10) cpu() int32\n",
      "[ 1,  6,  1,  7,  4,  8,  9,  5,  7,  4]\n",
      ", Desired output: ND: (10) cpu() int32\n",
      "[ 1,  5,  1,  7,  4,  8,  9,  5,  7,  4]\n",
      "\n",
      "Accuracy: 0.8144146341463414\n",
      "-------------------\n",
      "Iteration: 360\n",
      "Prediction: ND: (10) cpu() int32\n",
      "[ 1,  6,  1,  7,  4,  8,  9,  5,  7,  4]\n",
      ", Desired output: ND: (10) cpu() int32\n",
      "[ 1,  5,  1,  7,  4,  8,  9,  5,  7,  4]\n",
      "\n",
      "Accuracy: 0.8168780487804878\n",
      "-------------------\n",
      "Iteration: 370\n",
      "Prediction: ND: (10) cpu() int32\n",
      "[ 1,  6,  1,  7,  4,  8,  9,  5,  7,  4]\n",
      ", Desired output: ND: (10) cpu() int32\n",
      "[ 1,  5,  1,  7,  4,  8,  9,  5,  7,  4]\n",
      "\n",
      "Accuracy: 0.819\n",
      "-------------------\n",
      "Iteration: 380\n",
      "Prediction: ND: (10) cpu() int32\n",
      "[ 1,  6,  1,  7,  4,  8,  9,  5,  7,  4]\n",
      ", Desired output: ND: (10) cpu() int32\n",
      "[ 1,  5,  1,  7,  4,  8,  9,  5,  7,  4]\n",
      "\n",
      "Accuracy: 0.8214390243902439\n",
      "-------------------\n",
      "Iteration: 390\n",
      "Prediction: ND: (10) cpu() int32\n",
      "[ 1,  6,  1,  7,  4,  8,  9,  5,  7,  4]\n",
      ", Desired output: ND: (10) cpu() int32\n",
      "[ 1,  5,  1,  7,  4,  8,  9,  5,  7,  4]\n",
      "\n",
      "Accuracy: 0.823780487804878\n",
      "-------------------\n",
      "Iteration: 400\n",
      "Prediction: ND: (10) cpu() int32\n",
      "[ 1,  6,  1,  7,  4,  8,  9,  5,  7,  4]\n",
      ", Desired output: ND: (10) cpu() int32\n",
      "[ 1,  5,  1,  7,  4,  8,  9,  5,  7,  4]\n",
      "\n",
      "Accuracy: 0.8255853658536585\n",
      "-------------------\n",
      "Iteration: 410\n",
      "Prediction: ND: (10) cpu() int32\n",
      "[ 1,  6,  1,  7,  4,  8,  9,  5,  7,  4]\n",
      ", Desired output: ND: (10) cpu() int32\n",
      "[ 1,  5,  1,  7,  4,  8,  9,  5,  7,  4]\n",
      "\n",
      "Accuracy: 0.8279756097560975\n",
      "-------------------\n",
      "Iteration: 420\n",
      "Prediction: ND: (10) cpu() int32\n",
      "[ 1,  6,  1,  7,  4,  8,  9,  5,  7,  4]\n",
      ", Desired output: ND: (10) cpu() int32\n",
      "[ 1,  5,  1,  7,  4,  8,  9,  5,  7,  4]\n",
      "\n",
      "Accuracy: 0.8297560975609756\n",
      "-------------------\n",
      "Iteration: 430\n",
      "Prediction: ND: (10) cpu() int32\n",
      "[ 1,  6,  1,  7,  4,  8,  9,  5,  7,  4]\n",
      ", Desired output: ND: (10) cpu() int32\n",
      "[ 1,  5,  1,  7,  4,  8,  9,  5,  7,  4]\n",
      "\n",
      "Accuracy: 0.8317317073170731\n",
      "-------------------\n",
      "Iteration: 440\n",
      "Prediction: ND: (10) cpu() int32\n",
      "[ 1,  6,  1,  7,  4,  8,  9,  5,  7,  4]\n",
      ", Desired output: ND: (10) cpu() int32\n",
      "[ 1,  5,  1,  7,  4,  8,  9,  5,  7,  4]\n",
      "\n",
      "Accuracy: 0.8335609756097561\n",
      "-------------------\n",
      "Iteration: 450\n",
      "Prediction: ND: (10) cpu() int32\n",
      "[ 1,  6,  1,  7,  4,  8,  9,  5,  7,  4]\n",
      ", Desired output: ND: (10) cpu() int32\n",
      "[ 1,  5,  1,  7,  4,  8,  9,  5,  7,  4]\n",
      "\n",
      "Accuracy: 0.8349024390243902\n",
      "-------------------\n",
      "Iteration: 460\n",
      "Prediction: ND: (10) cpu() int32\n",
      "[ 1,  6,  1,  7,  4,  8,  9,  5,  7,  4]\n",
      ", Desired output: ND: (10) cpu() int32\n",
      "[ 1,  5,  1,  7,  4,  8,  9,  5,  7,  4]\n",
      "\n",
      "Accuracy: 0.8360487804878048\n",
      "-------------------\n",
      "Iteration: 470\n",
      "Prediction: ND: (10) cpu() int32\n",
      "[ 1,  6,  1,  7,  4,  8,  9,  5,  7,  4]\n",
      ", Desired output: ND: (10) cpu() int32\n",
      "[ 1,  5,  1,  7,  4,  8,  9,  5,  7,  4]\n",
      "\n",
      "Accuracy: 0.8375853658536585\n",
      "-------------------\n",
      "Iteration: 480\n",
      "Prediction: ND: (10) cpu() int32\n",
      "[ 1,  6,  1,  7,  4,  8,  9,  5,  7,  4]\n",
      ", Desired output: ND: (10) cpu() int32\n",
      "[ 1,  5,  1,  7,  4,  8,  9,  5,  7,  4]\n",
      "\n",
      "Accuracy: 0.8391463414634146\n",
      "-------------------\n",
      "Iteration: 490\n",
      "Prediction: ND: (10) cpu() int32\n",
      "[ 1,  6,  1,  7,  4,  8,  9,  5,  7,  4]\n",
      ", Desired output: ND: (10) cpu() int32\n",
      "[ 1,  5,  1,  7,  4,  8,  9,  5,  7,  4]\n",
      "\n",
      "Accuracy: 0.8403658536585366\n",
      "-------------------\n",
      "Iteration: 500\n",
      "Prediction: ND: (10) cpu() int32\n",
      "[ 1,  6,  1,  7,  4,  8,  9,  5,  7,  4]\n",
      ", Desired output: ND: (10) cpu() int32\n",
      "[ 1,  5,  1,  7,  4,  8,  9,  5,  7,  4]\n",
      "\n",
      "Accuracy: 0.8415609756097561\n",
      "-------------------\n"
     ]
    }
   ],
   "source": [
    "List<NDArray> parameters = new ArrayList<NDArray>();\n",
    "parameters = mineGradientDescent(XTest, YTest, rows, 0.1, 500);"
   ]
  },
  {
   "cell_type": "code",
   "execution_count": 55,
   "id": "e7d0ecee",
   "metadata": {
    "vscode": {
     "languageId": "java"
    }
   },
   "outputs": [],
   "source": [
    "public static NDArray makePredictions(NDArray X, NDArray W1, NDArray b1, NDArray W2, NDArray b2)\n",
    "{\n",
    "    NDArray Z1 = forwardPropagateZ1(W1, X, b1);\n",
    "    NDArray A1 = forwardPropagateA1(Z1);\n",
    "    NDArray Z2 = forwardPropagateZ2(W2, A1, b2);\n",
    "    NDArray A2 = forwardPropagateA2(Z2);\n",
    "    NDArray predictions = getPredictions(A2);\n",
    "    return predictions;\n",
    "}"
   ]
  },
  {
   "cell_type": "code",
   "execution_count": 59,
   "id": "ea8942e8",
   "metadata": {
    "vscode": {
     "languageId": "java"
    }
   },
   "outputs": [
    {
     "name": "stdout",
     "output_type": "stream",
     "text": [
      "Prediction: ND: (10) cpu() int32\n",
      "[ 1,  0,  1,  6,  0,  0,  7,  3,  5,  3]\n",
      ", Desired output: ND: (10) cpu() int32\n",
      "[ 1,  0,  1,  4,  0,  0,  7,  3,  5,  3]\n",
      "\n"
     ]
    },
    {
     "name": "stdout",
     "output_type": "stream",
     "text": [
      "Accuracy:0.828\n"
     ]
    }
   ],
   "source": [
    "NDArray predictions = makePredictions(XDev, parameters.get(0),  parameters.get(1), parameters.get(2), parameters.get(3));\n",
    "double accuracy =  getAccuracy(predictions, YDev);\n",
    "System.out.println(\"Accuracy:\" + accuracy);"
   ]
  }
 ],
 "metadata": {
  "kernelspec": {
   "display_name": "Java",
   "language": "java",
   "name": "java"
  },
  "language_info": {
   "codemirror_mode": "java",
   "file_extension": ".jshell",
   "mimetype": "text/x-java-source",
   "name": "Java",
   "pygments_lexer": "java",
   "version": "12.0.1+12"
  }
 },
 "nbformat": 4,
 "nbformat_minor": 5
}
